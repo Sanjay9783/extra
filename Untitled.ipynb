{
 "cells": [
  {
   "cell_type": "markdown",
   "id": "390e63e3",
   "metadata": {},
   "source": [
    "### Question 1"
   ]
  },
  {
   "cell_type": "code",
   "execution_count": 1,
   "id": "680a28fd",
   "metadata": {},
   "outputs": [
    {
     "name": "stdout",
     "output_type": "stream",
     "text": [
      "5,04,678\n",
      "50,46,78,000\n"
     ]
    }
   ],
   "source": [
    "def convert_to_indian_currency(n):   \n",
    "    a=str(n)[-3:]\n",
    "    x=str(n)[0:-3] \n",
    "    y=[a]\n",
    "    \n",
    "    while len(x)>2: \n",
    "        y.append(x[-2:])\n",
    "        x=str(int(x)//100)\n",
    "    if len(x)==2 or len(x)==1:\n",
    "        y.append(x)\n",
    "    \n",
    "    result = ','.join(y[::-1]) \n",
    "\n",
    "    return result\n",
    "\n",
    "print(convert_to_indian_currency(504678))\n",
    "print(convert_to_indian_currency(504678000))"
   ]
  },
  {
   "cell_type": "markdown",
   "id": "c072c1f4",
   "metadata": {},
   "source": [
    "### Question 2"
   ]
  },
  {
   "cell_type": "code",
   "execution_count": 2,
   "id": "a7b7d308",
   "metadata": {},
   "outputs": [
    {
     "name": "stdout",
     "output_type": "stream",
     "text": [
      "2\n",
      "1\n",
      "0\n"
     ]
    }
   ],
   "source": [
    "def num(N,K,*s):\n",
    "    ''' N= number of peaple between Gi-Hun and Ali\n",
    "        K= height of Gi-Hun and Ali\n",
    "        s= height of other's between Gi-Hun and Ali\n",
    "    '''\n",
    "    if N==len(s):\n",
    "        count=0\n",
    "        for i in s:\n",
    "            if i>K:\n",
    "                count+=1\n",
    "        return count\n",
    "    else:\n",
    "        return 'number of peaple between Gi-Hun and Ali is not equal to entered value'\n",
    "        \n",
    "print(num(4 ,10,2, 13, 4, 16 ))   \n",
    "print(num(5,8,9, 3 ,8 ,8 ,4))\n",
    "print(num(4 ,6,1 ,2, 3 ,4))"
   ]
  },
  {
   "cell_type": "code",
   "execution_count": null,
   "id": "61f0306c",
   "metadata": {},
   "outputs": [],
   "source": []
  }
 ],
 "metadata": {
  "kernelspec": {
   "display_name": "Python 3 (ipykernel)",
   "language": "python",
   "name": "python3"
  },
  "language_info": {
   "codemirror_mode": {
    "name": "ipython",
    "version": 3
   },
   "file_extension": ".py",
   "mimetype": "text/x-python",
   "name": "python",
   "nbconvert_exporter": "python",
   "pygments_lexer": "ipython3",
   "version": "3.9.12"
  }
 },
 "nbformat": 4,
 "nbformat_minor": 5
}
